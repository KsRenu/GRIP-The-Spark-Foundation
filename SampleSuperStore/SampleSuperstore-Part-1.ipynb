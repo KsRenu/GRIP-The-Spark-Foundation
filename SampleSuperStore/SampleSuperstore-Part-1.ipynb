{
 "cells": [
  {
   "cell_type": "markdown",
   "id": "4f3dc943",
   "metadata": {},
   "source": [
    "# Analysing SampleSuperstore dataset and deriving the necessary insights."
   ]
  },
  {
   "cell_type": "markdown",
   "id": "2a855476",
   "metadata": {},
   "source": [
    "## Importing the necessary libraries"
   ]
  },
  {
   "cell_type": "code",
   "execution_count": 1,
   "id": "f18712f3",
   "metadata": {},
   "outputs": [],
   "source": [
    "import pandas as pd\n",
    "import numpy as np\n",
    "import seaborn as sns\n",
    "import matplotlib.pyplot as plt"
   ]
  },
  {
   "cell_type": "code",
   "execution_count": 2,
   "id": "24245d08",
   "metadata": {},
   "outputs": [],
   "source": [
    "file_path=\"SampleSuperstore.csv\"\n",
    "df=pd.read_csv(file_path)"
   ]
  },
  {
   "cell_type": "code",
   "execution_count": 3,
   "id": "7e94954e",
   "metadata": {},
   "outputs": [
    {
     "data": {
      "text/html": [
       "<div>\n",
       "<style scoped>\n",
       "    .dataframe tbody tr th:only-of-type {\n",
       "        vertical-align: middle;\n",
       "    }\n",
       "\n",
       "    .dataframe tbody tr th {\n",
       "        vertical-align: top;\n",
       "    }\n",
       "\n",
       "    .dataframe thead th {\n",
       "        text-align: right;\n",
       "    }\n",
       "</style>\n",
       "<table border=\"1\" class=\"dataframe\">\n",
       "  <thead>\n",
       "    <tr style=\"text-align: right;\">\n",
       "      <th></th>\n",
       "      <th>Ship Mode</th>\n",
       "      <th>Segment</th>\n",
       "      <th>Country</th>\n",
       "      <th>City</th>\n",
       "      <th>State</th>\n",
       "      <th>Postal Code</th>\n",
       "      <th>Region</th>\n",
       "      <th>Category</th>\n",
       "      <th>Sub-Category</th>\n",
       "      <th>Sales</th>\n",
       "      <th>Quantity</th>\n",
       "      <th>Discount</th>\n",
       "      <th>Profit</th>\n",
       "    </tr>\n",
       "  </thead>\n",
       "  <tbody>\n",
       "    <tr>\n",
       "      <th>0</th>\n",
       "      <td>Second Class</td>\n",
       "      <td>Consumer</td>\n",
       "      <td>United States</td>\n",
       "      <td>Henderson</td>\n",
       "      <td>Kentucky</td>\n",
       "      <td>42420</td>\n",
       "      <td>South</td>\n",
       "      <td>Furniture</td>\n",
       "      <td>Bookcases</td>\n",
       "      <td>261.9600</td>\n",
       "      <td>2</td>\n",
       "      <td>0.00</td>\n",
       "      <td>41.9136</td>\n",
       "    </tr>\n",
       "    <tr>\n",
       "      <th>1</th>\n",
       "      <td>Second Class</td>\n",
       "      <td>Consumer</td>\n",
       "      <td>United States</td>\n",
       "      <td>Henderson</td>\n",
       "      <td>Kentucky</td>\n",
       "      <td>42420</td>\n",
       "      <td>South</td>\n",
       "      <td>Furniture</td>\n",
       "      <td>Chairs</td>\n",
       "      <td>731.9400</td>\n",
       "      <td>3</td>\n",
       "      <td>0.00</td>\n",
       "      <td>219.5820</td>\n",
       "    </tr>\n",
       "    <tr>\n",
       "      <th>2</th>\n",
       "      <td>Second Class</td>\n",
       "      <td>Corporate</td>\n",
       "      <td>United States</td>\n",
       "      <td>Los Angeles</td>\n",
       "      <td>California</td>\n",
       "      <td>90036</td>\n",
       "      <td>West</td>\n",
       "      <td>Office Supplies</td>\n",
       "      <td>Labels</td>\n",
       "      <td>14.6200</td>\n",
       "      <td>2</td>\n",
       "      <td>0.00</td>\n",
       "      <td>6.8714</td>\n",
       "    </tr>\n",
       "    <tr>\n",
       "      <th>3</th>\n",
       "      <td>Standard Class</td>\n",
       "      <td>Consumer</td>\n",
       "      <td>United States</td>\n",
       "      <td>Fort Lauderdale</td>\n",
       "      <td>Florida</td>\n",
       "      <td>33311</td>\n",
       "      <td>South</td>\n",
       "      <td>Furniture</td>\n",
       "      <td>Tables</td>\n",
       "      <td>957.5775</td>\n",
       "      <td>5</td>\n",
       "      <td>0.45</td>\n",
       "      <td>-383.0310</td>\n",
       "    </tr>\n",
       "    <tr>\n",
       "      <th>4</th>\n",
       "      <td>Standard Class</td>\n",
       "      <td>Consumer</td>\n",
       "      <td>United States</td>\n",
       "      <td>Fort Lauderdale</td>\n",
       "      <td>Florida</td>\n",
       "      <td>33311</td>\n",
       "      <td>South</td>\n",
       "      <td>Office Supplies</td>\n",
       "      <td>Storage</td>\n",
       "      <td>22.3680</td>\n",
       "      <td>2</td>\n",
       "      <td>0.20</td>\n",
       "      <td>2.5164</td>\n",
       "    </tr>\n",
       "    <tr>\n",
       "      <th>5</th>\n",
       "      <td>Standard Class</td>\n",
       "      <td>Consumer</td>\n",
       "      <td>United States</td>\n",
       "      <td>Los Angeles</td>\n",
       "      <td>California</td>\n",
       "      <td>90032</td>\n",
       "      <td>West</td>\n",
       "      <td>Furniture</td>\n",
       "      <td>Furnishings</td>\n",
       "      <td>48.8600</td>\n",
       "      <td>7</td>\n",
       "      <td>0.00</td>\n",
       "      <td>14.1694</td>\n",
       "    </tr>\n",
       "    <tr>\n",
       "      <th>6</th>\n",
       "      <td>Standard Class</td>\n",
       "      <td>Consumer</td>\n",
       "      <td>United States</td>\n",
       "      <td>Los Angeles</td>\n",
       "      <td>California</td>\n",
       "      <td>90032</td>\n",
       "      <td>West</td>\n",
       "      <td>Office Supplies</td>\n",
       "      <td>Art</td>\n",
       "      <td>7.2800</td>\n",
       "      <td>4</td>\n",
       "      <td>0.00</td>\n",
       "      <td>1.9656</td>\n",
       "    </tr>\n",
       "    <tr>\n",
       "      <th>7</th>\n",
       "      <td>Standard Class</td>\n",
       "      <td>Consumer</td>\n",
       "      <td>United States</td>\n",
       "      <td>Los Angeles</td>\n",
       "      <td>California</td>\n",
       "      <td>90032</td>\n",
       "      <td>West</td>\n",
       "      <td>Technology</td>\n",
       "      <td>Phones</td>\n",
       "      <td>907.1520</td>\n",
       "      <td>6</td>\n",
       "      <td>0.20</td>\n",
       "      <td>90.7152</td>\n",
       "    </tr>\n",
       "    <tr>\n",
       "      <th>8</th>\n",
       "      <td>Standard Class</td>\n",
       "      <td>Consumer</td>\n",
       "      <td>United States</td>\n",
       "      <td>Los Angeles</td>\n",
       "      <td>California</td>\n",
       "      <td>90032</td>\n",
       "      <td>West</td>\n",
       "      <td>Office Supplies</td>\n",
       "      <td>Binders</td>\n",
       "      <td>18.5040</td>\n",
       "      <td>3</td>\n",
       "      <td>0.20</td>\n",
       "      <td>5.7825</td>\n",
       "    </tr>\n",
       "    <tr>\n",
       "      <th>9</th>\n",
       "      <td>Standard Class</td>\n",
       "      <td>Consumer</td>\n",
       "      <td>United States</td>\n",
       "      <td>Los Angeles</td>\n",
       "      <td>California</td>\n",
       "      <td>90032</td>\n",
       "      <td>West</td>\n",
       "      <td>Office Supplies</td>\n",
       "      <td>Appliances</td>\n",
       "      <td>114.9000</td>\n",
       "      <td>5</td>\n",
       "      <td>0.00</td>\n",
       "      <td>34.4700</td>\n",
       "    </tr>\n",
       "  </tbody>\n",
       "</table>\n",
       "</div>"
      ],
      "text/plain": [
       "        Ship Mode    Segment        Country             City       State  \\\n",
       "0    Second Class   Consumer  United States        Henderson    Kentucky   \n",
       "1    Second Class   Consumer  United States        Henderson    Kentucky   \n",
       "2    Second Class  Corporate  United States      Los Angeles  California   \n",
       "3  Standard Class   Consumer  United States  Fort Lauderdale     Florida   \n",
       "4  Standard Class   Consumer  United States  Fort Lauderdale     Florida   \n",
       "5  Standard Class   Consumer  United States      Los Angeles  California   \n",
       "6  Standard Class   Consumer  United States      Los Angeles  California   \n",
       "7  Standard Class   Consumer  United States      Los Angeles  California   \n",
       "8  Standard Class   Consumer  United States      Los Angeles  California   \n",
       "9  Standard Class   Consumer  United States      Los Angeles  California   \n",
       "\n",
       "   Postal Code Region         Category Sub-Category     Sales  Quantity  \\\n",
       "0        42420  South        Furniture    Bookcases  261.9600         2   \n",
       "1        42420  South        Furniture       Chairs  731.9400         3   \n",
       "2        90036   West  Office Supplies       Labels   14.6200         2   \n",
       "3        33311  South        Furniture       Tables  957.5775         5   \n",
       "4        33311  South  Office Supplies      Storage   22.3680         2   \n",
       "5        90032   West        Furniture  Furnishings   48.8600         7   \n",
       "6        90032   West  Office Supplies          Art    7.2800         4   \n",
       "7        90032   West       Technology       Phones  907.1520         6   \n",
       "8        90032   West  Office Supplies      Binders   18.5040         3   \n",
       "9        90032   West  Office Supplies   Appliances  114.9000         5   \n",
       "\n",
       "   Discount    Profit  \n",
       "0      0.00   41.9136  \n",
       "1      0.00  219.5820  \n",
       "2      0.00    6.8714  \n",
       "3      0.45 -383.0310  \n",
       "4      0.20    2.5164  \n",
       "5      0.00   14.1694  \n",
       "6      0.00    1.9656  \n",
       "7      0.20   90.7152  \n",
       "8      0.20    5.7825  \n",
       "9      0.00   34.4700  "
      ]
     },
     "execution_count": 3,
     "metadata": {},
     "output_type": "execute_result"
    }
   ],
   "source": [
    "# Top 10 values are\n",
    "df.head(10)"
   ]
  },
  {
   "cell_type": "code",
   "execution_count": 4,
   "id": "5af4a694",
   "metadata": {},
   "outputs": [
    {
     "data": {
      "text/html": [
       "<div>\n",
       "<style scoped>\n",
       "    .dataframe tbody tr th:only-of-type {\n",
       "        vertical-align: middle;\n",
       "    }\n",
       "\n",
       "    .dataframe tbody tr th {\n",
       "        vertical-align: top;\n",
       "    }\n",
       "\n",
       "    .dataframe thead th {\n",
       "        text-align: right;\n",
       "    }\n",
       "</style>\n",
       "<table border=\"1\" class=\"dataframe\">\n",
       "  <thead>\n",
       "    <tr style=\"text-align: right;\">\n",
       "      <th></th>\n",
       "      <th>Ship Mode</th>\n",
       "      <th>Segment</th>\n",
       "      <th>Country</th>\n",
       "      <th>City</th>\n",
       "      <th>State</th>\n",
       "      <th>Postal Code</th>\n",
       "      <th>Region</th>\n",
       "      <th>Category</th>\n",
       "      <th>Sub-Category</th>\n",
       "      <th>Sales</th>\n",
       "      <th>Quantity</th>\n",
       "      <th>Discount</th>\n",
       "      <th>Profit</th>\n",
       "    </tr>\n",
       "  </thead>\n",
       "  <tbody>\n",
       "    <tr>\n",
       "      <th>9984</th>\n",
       "      <td>Standard Class</td>\n",
       "      <td>Consumer</td>\n",
       "      <td>United States</td>\n",
       "      <td>Long Beach</td>\n",
       "      <td>New York</td>\n",
       "      <td>11561</td>\n",
       "      <td>East</td>\n",
       "      <td>Office Supplies</td>\n",
       "      <td>Labels</td>\n",
       "      <td>31.500</td>\n",
       "      <td>10</td>\n",
       "      <td>0.0</td>\n",
       "      <td>15.1200</td>\n",
       "    </tr>\n",
       "    <tr>\n",
       "      <th>9985</th>\n",
       "      <td>Standard Class</td>\n",
       "      <td>Consumer</td>\n",
       "      <td>United States</td>\n",
       "      <td>Long Beach</td>\n",
       "      <td>New York</td>\n",
       "      <td>11561</td>\n",
       "      <td>East</td>\n",
       "      <td>Office Supplies</td>\n",
       "      <td>Supplies</td>\n",
       "      <td>55.600</td>\n",
       "      <td>4</td>\n",
       "      <td>0.0</td>\n",
       "      <td>16.1240</td>\n",
       "    </tr>\n",
       "    <tr>\n",
       "      <th>9986</th>\n",
       "      <td>Standard Class</td>\n",
       "      <td>Consumer</td>\n",
       "      <td>United States</td>\n",
       "      <td>Los Angeles</td>\n",
       "      <td>California</td>\n",
       "      <td>90008</td>\n",
       "      <td>West</td>\n",
       "      <td>Technology</td>\n",
       "      <td>Accessories</td>\n",
       "      <td>36.240</td>\n",
       "      <td>1</td>\n",
       "      <td>0.0</td>\n",
       "      <td>15.2208</td>\n",
       "    </tr>\n",
       "    <tr>\n",
       "      <th>9987</th>\n",
       "      <td>Standard Class</td>\n",
       "      <td>Corporate</td>\n",
       "      <td>United States</td>\n",
       "      <td>Athens</td>\n",
       "      <td>Georgia</td>\n",
       "      <td>30605</td>\n",
       "      <td>South</td>\n",
       "      <td>Technology</td>\n",
       "      <td>Accessories</td>\n",
       "      <td>79.990</td>\n",
       "      <td>1</td>\n",
       "      <td>0.0</td>\n",
       "      <td>28.7964</td>\n",
       "    </tr>\n",
       "    <tr>\n",
       "      <th>9988</th>\n",
       "      <td>Standard Class</td>\n",
       "      <td>Corporate</td>\n",
       "      <td>United States</td>\n",
       "      <td>Athens</td>\n",
       "      <td>Georgia</td>\n",
       "      <td>30605</td>\n",
       "      <td>South</td>\n",
       "      <td>Technology</td>\n",
       "      <td>Phones</td>\n",
       "      <td>206.100</td>\n",
       "      <td>5</td>\n",
       "      <td>0.0</td>\n",
       "      <td>55.6470</td>\n",
       "    </tr>\n",
       "    <tr>\n",
       "      <th>9989</th>\n",
       "      <td>Second Class</td>\n",
       "      <td>Consumer</td>\n",
       "      <td>United States</td>\n",
       "      <td>Miami</td>\n",
       "      <td>Florida</td>\n",
       "      <td>33180</td>\n",
       "      <td>South</td>\n",
       "      <td>Furniture</td>\n",
       "      <td>Furnishings</td>\n",
       "      <td>25.248</td>\n",
       "      <td>3</td>\n",
       "      <td>0.2</td>\n",
       "      <td>4.1028</td>\n",
       "    </tr>\n",
       "    <tr>\n",
       "      <th>9990</th>\n",
       "      <td>Standard Class</td>\n",
       "      <td>Consumer</td>\n",
       "      <td>United States</td>\n",
       "      <td>Costa Mesa</td>\n",
       "      <td>California</td>\n",
       "      <td>92627</td>\n",
       "      <td>West</td>\n",
       "      <td>Furniture</td>\n",
       "      <td>Furnishings</td>\n",
       "      <td>91.960</td>\n",
       "      <td>2</td>\n",
       "      <td>0.0</td>\n",
       "      <td>15.6332</td>\n",
       "    </tr>\n",
       "    <tr>\n",
       "      <th>9991</th>\n",
       "      <td>Standard Class</td>\n",
       "      <td>Consumer</td>\n",
       "      <td>United States</td>\n",
       "      <td>Costa Mesa</td>\n",
       "      <td>California</td>\n",
       "      <td>92627</td>\n",
       "      <td>West</td>\n",
       "      <td>Technology</td>\n",
       "      <td>Phones</td>\n",
       "      <td>258.576</td>\n",
       "      <td>2</td>\n",
       "      <td>0.2</td>\n",
       "      <td>19.3932</td>\n",
       "    </tr>\n",
       "    <tr>\n",
       "      <th>9992</th>\n",
       "      <td>Standard Class</td>\n",
       "      <td>Consumer</td>\n",
       "      <td>United States</td>\n",
       "      <td>Costa Mesa</td>\n",
       "      <td>California</td>\n",
       "      <td>92627</td>\n",
       "      <td>West</td>\n",
       "      <td>Office Supplies</td>\n",
       "      <td>Paper</td>\n",
       "      <td>29.600</td>\n",
       "      <td>4</td>\n",
       "      <td>0.0</td>\n",
       "      <td>13.3200</td>\n",
       "    </tr>\n",
       "    <tr>\n",
       "      <th>9993</th>\n",
       "      <td>Second Class</td>\n",
       "      <td>Consumer</td>\n",
       "      <td>United States</td>\n",
       "      <td>Westminster</td>\n",
       "      <td>California</td>\n",
       "      <td>92683</td>\n",
       "      <td>West</td>\n",
       "      <td>Office Supplies</td>\n",
       "      <td>Appliances</td>\n",
       "      <td>243.160</td>\n",
       "      <td>2</td>\n",
       "      <td>0.0</td>\n",
       "      <td>72.9480</td>\n",
       "    </tr>\n",
       "  </tbody>\n",
       "</table>\n",
       "</div>"
      ],
      "text/plain": [
       "           Ship Mode    Segment        Country         City       State  \\\n",
       "9984  Standard Class   Consumer  United States   Long Beach    New York   \n",
       "9985  Standard Class   Consumer  United States   Long Beach    New York   \n",
       "9986  Standard Class   Consumer  United States  Los Angeles  California   \n",
       "9987  Standard Class  Corporate  United States       Athens     Georgia   \n",
       "9988  Standard Class  Corporate  United States       Athens     Georgia   \n",
       "9989    Second Class   Consumer  United States        Miami     Florida   \n",
       "9990  Standard Class   Consumer  United States   Costa Mesa  California   \n",
       "9991  Standard Class   Consumer  United States   Costa Mesa  California   \n",
       "9992  Standard Class   Consumer  United States   Costa Mesa  California   \n",
       "9993    Second Class   Consumer  United States  Westminster  California   \n",
       "\n",
       "      Postal Code Region         Category Sub-Category    Sales  Quantity  \\\n",
       "9984        11561   East  Office Supplies       Labels   31.500        10   \n",
       "9985        11561   East  Office Supplies     Supplies   55.600         4   \n",
       "9986        90008   West       Technology  Accessories   36.240         1   \n",
       "9987        30605  South       Technology  Accessories   79.990         1   \n",
       "9988        30605  South       Technology       Phones  206.100         5   \n",
       "9989        33180  South        Furniture  Furnishings   25.248         3   \n",
       "9990        92627   West        Furniture  Furnishings   91.960         2   \n",
       "9991        92627   West       Technology       Phones  258.576         2   \n",
       "9992        92627   West  Office Supplies        Paper   29.600         4   \n",
       "9993        92683   West  Office Supplies   Appliances  243.160         2   \n",
       "\n",
       "      Discount   Profit  \n",
       "9984       0.0  15.1200  \n",
       "9985       0.0  16.1240  \n",
       "9986       0.0  15.2208  \n",
       "9987       0.0  28.7964  \n",
       "9988       0.0  55.6470  \n",
       "9989       0.2   4.1028  \n",
       "9990       0.0  15.6332  \n",
       "9991       0.2  19.3932  \n",
       "9992       0.0  13.3200  \n",
       "9993       0.0  72.9480  "
      ]
     },
     "execution_count": 4,
     "metadata": {},
     "output_type": "execute_result"
    }
   ],
   "source": [
    "#Last 10 values are \n",
    "df.tail(10)"
   ]
  },
  {
   "cell_type": "code",
   "execution_count": 5,
   "id": "4adca198",
   "metadata": {},
   "outputs": [
    {
     "name": "stdout",
     "output_type": "stream",
     "text": [
      "It has  9994 rows and  13 columns\n"
     ]
    }
   ],
   "source": [
    "#to find the no.of.columns and rows\n",
    "print(\"It has \",df.shape[0],\"rows and \",df.shape[1],\"columns\")"
   ]
  },
  {
   "cell_type": "code",
   "execution_count": 6,
   "id": "0cab7440",
   "metadata": {},
   "outputs": [
    {
     "data": {
      "text/plain": [
       "['Ship Mode',\n",
       " 'Segment',\n",
       " 'Country',\n",
       " 'City',\n",
       " 'State',\n",
       " 'Postal Code',\n",
       " 'Region',\n",
       " 'Category',\n",
       " 'Sub-Category',\n",
       " 'Sales',\n",
       " 'Quantity',\n",
       " 'Discount',\n",
       " 'Profit']"
      ]
     },
     "execution_count": 6,
     "metadata": {},
     "output_type": "execute_result"
    }
   ],
   "source": [
    "#to know the column names\n",
    "df.columns.tolist()"
   ]
  },
  {
   "cell_type": "code",
   "execution_count": 7,
   "id": "73e3c8fe",
   "metadata": {},
   "outputs": [
    {
     "name": "stdout",
     "output_type": "stream",
     "text": [
      "<class 'pandas.core.frame.DataFrame'>\n",
      "RangeIndex: 9994 entries, 0 to 9993\n",
      "Data columns (total 13 columns):\n",
      " #   Column        Non-Null Count  Dtype  \n",
      "---  ------        --------------  -----  \n",
      " 0   Ship Mode     9994 non-null   object \n",
      " 1   Segment       9994 non-null   object \n",
      " 2   Country       9994 non-null   object \n",
      " 3   City          9994 non-null   object \n",
      " 4   State         9994 non-null   object \n",
      " 5   Postal Code   9994 non-null   int64  \n",
      " 6   Region        9994 non-null   object \n",
      " 7   Category      9994 non-null   object \n",
      " 8   Sub-Category  9994 non-null   object \n",
      " 9   Sales         9994 non-null   float64\n",
      " 10  Quantity      9994 non-null   int64  \n",
      " 11  Discount      9994 non-null   float64\n",
      " 12  Profit        9994 non-null   float64\n",
      "dtypes: float64(3), int64(2), object(8)\n",
      "memory usage: 1015.1+ KB\n"
     ]
    }
   ],
   "source": [
    "#deriving the basic info\n",
    "df.info()\n",
    "#it gives the no.of.null values in the dataset along with the datatypes of the columns"
   ]
  },
  {
   "cell_type": "code",
   "execution_count": 8,
   "id": "347f81ca",
   "metadata": {},
   "outputs": [
    {
     "name": "stdout",
     "output_type": "stream",
     "text": [
      "No.of.int64 datatype columns are :  2 \n",
      "\n",
      "They are :  ['Postal Code', 'Quantity']\n"
     ]
    }
   ],
   "source": [
    "int_desc=df.describe(include=[\"int64\"])\n",
    "print(\"No.of.int64 datatype columns are : \",len(int_desc.columns.tolist()),\"\\n\\nThey are : \",int_desc.columns.tolist())"
   ]
  },
  {
   "cell_type": "code",
   "execution_count": 9,
   "id": "4ff3c023",
   "metadata": {},
   "outputs": [
    {
     "data": {
      "text/html": [
       "<div>\n",
       "<style scoped>\n",
       "    .dataframe tbody tr th:only-of-type {\n",
       "        vertical-align: middle;\n",
       "    }\n",
       "\n",
       "    .dataframe tbody tr th {\n",
       "        vertical-align: top;\n",
       "    }\n",
       "\n",
       "    .dataframe thead th {\n",
       "        text-align: right;\n",
       "    }\n",
       "</style>\n",
       "<table border=\"1\" class=\"dataframe\">\n",
       "  <thead>\n",
       "    <tr style=\"text-align: right;\">\n",
       "      <th></th>\n",
       "      <th>Postal Code</th>\n",
       "      <th>Quantity</th>\n",
       "    </tr>\n",
       "  </thead>\n",
       "  <tbody>\n",
       "    <tr>\n",
       "      <th>count</th>\n",
       "      <td>9994.000000</td>\n",
       "      <td>9994.000000</td>\n",
       "    </tr>\n",
       "    <tr>\n",
       "      <th>mean</th>\n",
       "      <td>55190.379428</td>\n",
       "      <td>3.789574</td>\n",
       "    </tr>\n",
       "    <tr>\n",
       "      <th>std</th>\n",
       "      <td>32063.693350</td>\n",
       "      <td>2.225110</td>\n",
       "    </tr>\n",
       "    <tr>\n",
       "      <th>min</th>\n",
       "      <td>1040.000000</td>\n",
       "      <td>1.000000</td>\n",
       "    </tr>\n",
       "    <tr>\n",
       "      <th>25%</th>\n",
       "      <td>23223.000000</td>\n",
       "      <td>2.000000</td>\n",
       "    </tr>\n",
       "    <tr>\n",
       "      <th>50%</th>\n",
       "      <td>56430.500000</td>\n",
       "      <td>3.000000</td>\n",
       "    </tr>\n",
       "    <tr>\n",
       "      <th>75%</th>\n",
       "      <td>90008.000000</td>\n",
       "      <td>5.000000</td>\n",
       "    </tr>\n",
       "    <tr>\n",
       "      <th>max</th>\n",
       "      <td>99301.000000</td>\n",
       "      <td>14.000000</td>\n",
       "    </tr>\n",
       "  </tbody>\n",
       "</table>\n",
       "</div>"
      ],
      "text/plain": [
       "        Postal Code     Quantity\n",
       "count   9994.000000  9994.000000\n",
       "mean   55190.379428     3.789574\n",
       "std    32063.693350     2.225110\n",
       "min     1040.000000     1.000000\n",
       "25%    23223.000000     2.000000\n",
       "50%    56430.500000     3.000000\n",
       "75%    90008.000000     5.000000\n",
       "max    99301.000000    14.000000"
      ]
     },
     "execution_count": 9,
     "metadata": {},
     "output_type": "execute_result"
    }
   ],
   "source": [
    "#to get the statistical data of int64 datatype columns\n",
    "int_desc"
   ]
  },
  {
   "cell_type": "code",
   "execution_count": 10,
   "id": "3cb3b19e",
   "metadata": {},
   "outputs": [
    {
     "name": "stdout",
     "output_type": "stream",
     "text": [
      "No.of.float64 datatype columns are :  3 \n",
      "\n",
      "They are :  ['Sales', 'Discount', 'Profit']\n"
     ]
    }
   ],
   "source": [
    "flt_desc=df.describe(include=[\"float64\"])\n",
    "print(\"No.of.float64 datatype columns are : \",len(flt_desc.columns.tolist()),\"\\n\\nThey are : \",flt_desc.columns.tolist())"
   ]
  },
  {
   "cell_type": "code",
   "execution_count": 11,
   "id": "dfb8d708",
   "metadata": {},
   "outputs": [
    {
     "data": {
      "text/html": [
       "<div>\n",
       "<style scoped>\n",
       "    .dataframe tbody tr th:only-of-type {\n",
       "        vertical-align: middle;\n",
       "    }\n",
       "\n",
       "    .dataframe tbody tr th {\n",
       "        vertical-align: top;\n",
       "    }\n",
       "\n",
       "    .dataframe thead th {\n",
       "        text-align: right;\n",
       "    }\n",
       "</style>\n",
       "<table border=\"1\" class=\"dataframe\">\n",
       "  <thead>\n",
       "    <tr style=\"text-align: right;\">\n",
       "      <th></th>\n",
       "      <th>Sales</th>\n",
       "      <th>Discount</th>\n",
       "      <th>Profit</th>\n",
       "    </tr>\n",
       "  </thead>\n",
       "  <tbody>\n",
       "    <tr>\n",
       "      <th>count</th>\n",
       "      <td>9994.000000</td>\n",
       "      <td>9994.000000</td>\n",
       "      <td>9994.000000</td>\n",
       "    </tr>\n",
       "    <tr>\n",
       "      <th>mean</th>\n",
       "      <td>229.858001</td>\n",
       "      <td>0.156203</td>\n",
       "      <td>28.656896</td>\n",
       "    </tr>\n",
       "    <tr>\n",
       "      <th>std</th>\n",
       "      <td>623.245101</td>\n",
       "      <td>0.206452</td>\n",
       "      <td>234.260108</td>\n",
       "    </tr>\n",
       "    <tr>\n",
       "      <th>min</th>\n",
       "      <td>0.444000</td>\n",
       "      <td>0.000000</td>\n",
       "      <td>-6599.978000</td>\n",
       "    </tr>\n",
       "    <tr>\n",
       "      <th>25%</th>\n",
       "      <td>17.280000</td>\n",
       "      <td>0.000000</td>\n",
       "      <td>1.728750</td>\n",
       "    </tr>\n",
       "    <tr>\n",
       "      <th>50%</th>\n",
       "      <td>54.490000</td>\n",
       "      <td>0.200000</td>\n",
       "      <td>8.666500</td>\n",
       "    </tr>\n",
       "    <tr>\n",
       "      <th>75%</th>\n",
       "      <td>209.940000</td>\n",
       "      <td>0.200000</td>\n",
       "      <td>29.364000</td>\n",
       "    </tr>\n",
       "    <tr>\n",
       "      <th>max</th>\n",
       "      <td>22638.480000</td>\n",
       "      <td>0.800000</td>\n",
       "      <td>8399.976000</td>\n",
       "    </tr>\n",
       "  </tbody>\n",
       "</table>\n",
       "</div>"
      ],
      "text/plain": [
       "              Sales     Discount       Profit\n",
       "count   9994.000000  9994.000000  9994.000000\n",
       "mean     229.858001     0.156203    28.656896\n",
       "std      623.245101     0.206452   234.260108\n",
       "min        0.444000     0.000000 -6599.978000\n",
       "25%       17.280000     0.000000     1.728750\n",
       "50%       54.490000     0.200000     8.666500\n",
       "75%      209.940000     0.200000    29.364000\n",
       "max    22638.480000     0.800000  8399.976000"
      ]
     },
     "execution_count": 11,
     "metadata": {},
     "output_type": "execute_result"
    }
   ],
   "source": [
    "#to get the statistical data of float64 datatype columns\n",
    "flt_desc"
   ]
  },
  {
   "cell_type": "code",
   "execution_count": 12,
   "id": "3bba39bd",
   "metadata": {},
   "outputs": [
    {
     "name": "stdout",
     "output_type": "stream",
     "text": [
      "No.of.object datatype columns are :  8 \n",
      "\n",
      "They are :  ['Ship Mode', 'Segment', 'Country', 'City', 'State', 'Region', 'Category', 'Sub-Category']\n"
     ]
    }
   ],
   "source": [
    "obj_desc=df.describe(include=[\"object\"])\n",
    "print(\"No.of.object datatype columns are : \",len(obj_desc.columns.tolist()),\"\\n\\nThey are : \",obj_desc.columns.tolist())"
   ]
  },
  {
   "cell_type": "code",
   "execution_count": 13,
   "id": "44fc295b",
   "metadata": {},
   "outputs": [
    {
     "data": {
      "text/html": [
       "<div>\n",
       "<style scoped>\n",
       "    .dataframe tbody tr th:only-of-type {\n",
       "        vertical-align: middle;\n",
       "    }\n",
       "\n",
       "    .dataframe tbody tr th {\n",
       "        vertical-align: top;\n",
       "    }\n",
       "\n",
       "    .dataframe thead th {\n",
       "        text-align: right;\n",
       "    }\n",
       "</style>\n",
       "<table border=\"1\" class=\"dataframe\">\n",
       "  <thead>\n",
       "    <tr style=\"text-align: right;\">\n",
       "      <th></th>\n",
       "      <th>Ship Mode</th>\n",
       "      <th>Segment</th>\n",
       "      <th>Country</th>\n",
       "      <th>City</th>\n",
       "      <th>State</th>\n",
       "      <th>Region</th>\n",
       "      <th>Category</th>\n",
       "      <th>Sub-Category</th>\n",
       "    </tr>\n",
       "  </thead>\n",
       "  <tbody>\n",
       "    <tr>\n",
       "      <th>count</th>\n",
       "      <td>9994</td>\n",
       "      <td>9994</td>\n",
       "      <td>9994</td>\n",
       "      <td>9994</td>\n",
       "      <td>9994</td>\n",
       "      <td>9994</td>\n",
       "      <td>9994</td>\n",
       "      <td>9994</td>\n",
       "    </tr>\n",
       "    <tr>\n",
       "      <th>unique</th>\n",
       "      <td>4</td>\n",
       "      <td>3</td>\n",
       "      <td>1</td>\n",
       "      <td>531</td>\n",
       "      <td>49</td>\n",
       "      <td>4</td>\n",
       "      <td>3</td>\n",
       "      <td>17</td>\n",
       "    </tr>\n",
       "    <tr>\n",
       "      <th>top</th>\n",
       "      <td>Standard Class</td>\n",
       "      <td>Consumer</td>\n",
       "      <td>United States</td>\n",
       "      <td>New York City</td>\n",
       "      <td>California</td>\n",
       "      <td>West</td>\n",
       "      <td>Office Supplies</td>\n",
       "      <td>Binders</td>\n",
       "    </tr>\n",
       "    <tr>\n",
       "      <th>freq</th>\n",
       "      <td>5968</td>\n",
       "      <td>5191</td>\n",
       "      <td>9994</td>\n",
       "      <td>915</td>\n",
       "      <td>2001</td>\n",
       "      <td>3203</td>\n",
       "      <td>6026</td>\n",
       "      <td>1523</td>\n",
       "    </tr>\n",
       "  </tbody>\n",
       "</table>\n",
       "</div>"
      ],
      "text/plain": [
       "             Ship Mode   Segment        Country           City       State  \\\n",
       "count             9994      9994           9994           9994        9994   \n",
       "unique               4         3              1            531          49   \n",
       "top     Standard Class  Consumer  United States  New York City  California   \n",
       "freq              5968      5191           9994            915        2001   \n",
       "\n",
       "       Region         Category Sub-Category  \n",
       "count    9994             9994         9994  \n",
       "unique      4                3           17  \n",
       "top      West  Office Supplies      Binders  \n",
       "freq     3203             6026         1523  "
      ]
     },
     "execution_count": 13,
     "metadata": {},
     "output_type": "execute_result"
    }
   ],
   "source": [
    "#to get the statistical data of object datatype columns\n",
    "obj_desc"
   ]
  },
  {
   "cell_type": "code",
   "execution_count": 14,
   "id": "a59a9b3d",
   "metadata": {},
   "outputs": [
    {
     "data": {
      "text/plain": [
       "Ship Mode       0\n",
       "Segment         0\n",
       "Country         0\n",
       "City            0\n",
       "State           0\n",
       "Postal Code     0\n",
       "Region          0\n",
       "Category        0\n",
       "Sub-Category    0\n",
       "Sales           0\n",
       "Quantity        0\n",
       "Discount        0\n",
       "Profit          0\n",
       "dtype: int64"
      ]
     },
     "execution_count": 14,
     "metadata": {},
     "output_type": "execute_result"
    }
   ],
   "source": [
    "#to check whether the null value is present\n",
    "df.isnull().sum()\n",
    "#it shows that there is no null value in this dataset"
   ]
  },
  {
   "cell_type": "code",
   "execution_count": 15,
   "id": "c947d5dd",
   "metadata": {},
   "outputs": [
    {
     "data": {
      "text/plain": [
       "Ship Mode          4\n",
       "Segment            3\n",
       "Country            1\n",
       "City             531\n",
       "State             49\n",
       "Postal Code      631\n",
       "Region             4\n",
       "Category           3\n",
       "Sub-Category      17\n",
       "Sales           5825\n",
       "Quantity          14\n",
       "Discount          12\n",
       "Profit          7287\n",
       "dtype: int64"
      ]
     },
     "execution_count": 15,
     "metadata": {},
     "output_type": "execute_result"
    }
   ],
   "source": [
    "#to know the no.of.unique values in each column\n",
    "df.nunique()"
   ]
  },
  {
   "cell_type": "markdown",
   "id": "2b0ad3b7",
   "metadata": {},
   "source": [
    "# Column wise analysis"
   ]
  },
  {
   "cell_type": "markdown",
   "id": "5d2bd6dd",
   "metadata": {},
   "source": [
    "# The columns that are useful are\n",
    "                            - Ship Mode\n",
    "                            - Segment\n",
    "                            - City\n",
    "                            - State\n",
    "                            - Postal Code\n",
    "                            - Region\n",
    "                            - Category\n",
    "                            - Sub-Category\n",
    "                            - Quantity\n",
    "                            - Discount\n",
    "                            - Profit"
   ]
  },
  {
   "cell_type": "code",
   "execution_count": 16,
   "id": "8c815e8e",
   "metadata": {},
   "outputs": [
    {
     "name": "stdout",
     "output_type": "stream",
     "text": [
      "Removing the unusable columns\n"
     ]
    }
   ],
   "source": [
    "print(\"Removing the unusable columns\")\n",
    "df.drop(['Country','Sales'],axis=1,inplace=True)"
   ]
  },
  {
   "cell_type": "code",
   "execution_count": 17,
   "id": "0200112b",
   "metadata": {},
   "outputs": [
    {
     "name": "stdout",
     "output_type": "stream",
     "text": [
      "The column size has been changed from 13 to :  11\n"
     ]
    }
   ],
   "source": [
    "print(\"The column size has been changed from 13 to : \",df.shape[1])"
   ]
  },
  {
   "cell_type": "code",
   "execution_count": 18,
   "id": "9eca34ad",
   "metadata": {},
   "outputs": [
    {
     "data": {
      "text/html": [
       "<div>\n",
       "<style scoped>\n",
       "    .dataframe tbody tr th:only-of-type {\n",
       "        vertical-align: middle;\n",
       "    }\n",
       "\n",
       "    .dataframe tbody tr th {\n",
       "        vertical-align: top;\n",
       "    }\n",
       "\n",
       "    .dataframe thead th {\n",
       "        text-align: right;\n",
       "    }\n",
       "</style>\n",
       "<table border=\"1\" class=\"dataframe\">\n",
       "  <thead>\n",
       "    <tr style=\"text-align: right;\">\n",
       "      <th></th>\n",
       "      <th>Ship Mode</th>\n",
       "      <th>Segment</th>\n",
       "      <th>City</th>\n",
       "      <th>State</th>\n",
       "      <th>Postal Code</th>\n",
       "      <th>Region</th>\n",
       "      <th>Category</th>\n",
       "      <th>Sub-Category</th>\n",
       "      <th>Quantity</th>\n",
       "      <th>Discount</th>\n",
       "      <th>Profit</th>\n",
       "    </tr>\n",
       "  </thead>\n",
       "  <tbody>\n",
       "    <tr>\n",
       "      <th>0</th>\n",
       "      <td>Second Class</td>\n",
       "      <td>Consumer</td>\n",
       "      <td>Henderson</td>\n",
       "      <td>Kentucky</td>\n",
       "      <td>42420</td>\n",
       "      <td>South</td>\n",
       "      <td>Furniture</td>\n",
       "      <td>Bookcases</td>\n",
       "      <td>2</td>\n",
       "      <td>0.00</td>\n",
       "      <td>41.9136</td>\n",
       "    </tr>\n",
       "    <tr>\n",
       "      <th>1</th>\n",
       "      <td>Second Class</td>\n",
       "      <td>Consumer</td>\n",
       "      <td>Henderson</td>\n",
       "      <td>Kentucky</td>\n",
       "      <td>42420</td>\n",
       "      <td>South</td>\n",
       "      <td>Furniture</td>\n",
       "      <td>Chairs</td>\n",
       "      <td>3</td>\n",
       "      <td>0.00</td>\n",
       "      <td>219.5820</td>\n",
       "    </tr>\n",
       "    <tr>\n",
       "      <th>2</th>\n",
       "      <td>Second Class</td>\n",
       "      <td>Corporate</td>\n",
       "      <td>Los Angeles</td>\n",
       "      <td>California</td>\n",
       "      <td>90036</td>\n",
       "      <td>West</td>\n",
       "      <td>Office Supplies</td>\n",
       "      <td>Labels</td>\n",
       "      <td>2</td>\n",
       "      <td>0.00</td>\n",
       "      <td>6.8714</td>\n",
       "    </tr>\n",
       "    <tr>\n",
       "      <th>3</th>\n",
       "      <td>Standard Class</td>\n",
       "      <td>Consumer</td>\n",
       "      <td>Fort Lauderdale</td>\n",
       "      <td>Florida</td>\n",
       "      <td>33311</td>\n",
       "      <td>South</td>\n",
       "      <td>Furniture</td>\n",
       "      <td>Tables</td>\n",
       "      <td>5</td>\n",
       "      <td>0.45</td>\n",
       "      <td>-383.0310</td>\n",
       "    </tr>\n",
       "    <tr>\n",
       "      <th>4</th>\n",
       "      <td>Standard Class</td>\n",
       "      <td>Consumer</td>\n",
       "      <td>Fort Lauderdale</td>\n",
       "      <td>Florida</td>\n",
       "      <td>33311</td>\n",
       "      <td>South</td>\n",
       "      <td>Office Supplies</td>\n",
       "      <td>Storage</td>\n",
       "      <td>2</td>\n",
       "      <td>0.20</td>\n",
       "      <td>2.5164</td>\n",
       "    </tr>\n",
       "    <tr>\n",
       "      <th>...</th>\n",
       "      <td>...</td>\n",
       "      <td>...</td>\n",
       "      <td>...</td>\n",
       "      <td>...</td>\n",
       "      <td>...</td>\n",
       "      <td>...</td>\n",
       "      <td>...</td>\n",
       "      <td>...</td>\n",
       "      <td>...</td>\n",
       "      <td>...</td>\n",
       "      <td>...</td>\n",
       "    </tr>\n",
       "    <tr>\n",
       "      <th>9989</th>\n",
       "      <td>Second Class</td>\n",
       "      <td>Consumer</td>\n",
       "      <td>Miami</td>\n",
       "      <td>Florida</td>\n",
       "      <td>33180</td>\n",
       "      <td>South</td>\n",
       "      <td>Furniture</td>\n",
       "      <td>Furnishings</td>\n",
       "      <td>3</td>\n",
       "      <td>0.20</td>\n",
       "      <td>4.1028</td>\n",
       "    </tr>\n",
       "    <tr>\n",
       "      <th>9990</th>\n",
       "      <td>Standard Class</td>\n",
       "      <td>Consumer</td>\n",
       "      <td>Costa Mesa</td>\n",
       "      <td>California</td>\n",
       "      <td>92627</td>\n",
       "      <td>West</td>\n",
       "      <td>Furniture</td>\n",
       "      <td>Furnishings</td>\n",
       "      <td>2</td>\n",
       "      <td>0.00</td>\n",
       "      <td>15.6332</td>\n",
       "    </tr>\n",
       "    <tr>\n",
       "      <th>9991</th>\n",
       "      <td>Standard Class</td>\n",
       "      <td>Consumer</td>\n",
       "      <td>Costa Mesa</td>\n",
       "      <td>California</td>\n",
       "      <td>92627</td>\n",
       "      <td>West</td>\n",
       "      <td>Technology</td>\n",
       "      <td>Phones</td>\n",
       "      <td>2</td>\n",
       "      <td>0.20</td>\n",
       "      <td>19.3932</td>\n",
       "    </tr>\n",
       "    <tr>\n",
       "      <th>9992</th>\n",
       "      <td>Standard Class</td>\n",
       "      <td>Consumer</td>\n",
       "      <td>Costa Mesa</td>\n",
       "      <td>California</td>\n",
       "      <td>92627</td>\n",
       "      <td>West</td>\n",
       "      <td>Office Supplies</td>\n",
       "      <td>Paper</td>\n",
       "      <td>4</td>\n",
       "      <td>0.00</td>\n",
       "      <td>13.3200</td>\n",
       "    </tr>\n",
       "    <tr>\n",
       "      <th>9993</th>\n",
       "      <td>Second Class</td>\n",
       "      <td>Consumer</td>\n",
       "      <td>Westminster</td>\n",
       "      <td>California</td>\n",
       "      <td>92683</td>\n",
       "      <td>West</td>\n",
       "      <td>Office Supplies</td>\n",
       "      <td>Appliances</td>\n",
       "      <td>2</td>\n",
       "      <td>0.00</td>\n",
       "      <td>72.9480</td>\n",
       "    </tr>\n",
       "  </tbody>\n",
       "</table>\n",
       "<p>9994 rows × 11 columns</p>\n",
       "</div>"
      ],
      "text/plain": [
       "           Ship Mode    Segment             City       State  Postal Code  \\\n",
       "0       Second Class   Consumer        Henderson    Kentucky        42420   \n",
       "1       Second Class   Consumer        Henderson    Kentucky        42420   \n",
       "2       Second Class  Corporate      Los Angeles  California        90036   \n",
       "3     Standard Class   Consumer  Fort Lauderdale     Florida        33311   \n",
       "4     Standard Class   Consumer  Fort Lauderdale     Florida        33311   \n",
       "...              ...        ...              ...         ...          ...   \n",
       "9989    Second Class   Consumer            Miami     Florida        33180   \n",
       "9990  Standard Class   Consumer       Costa Mesa  California        92627   \n",
       "9991  Standard Class   Consumer       Costa Mesa  California        92627   \n",
       "9992  Standard Class   Consumer       Costa Mesa  California        92627   \n",
       "9993    Second Class   Consumer      Westminster  California        92683   \n",
       "\n",
       "     Region         Category Sub-Category  Quantity  Discount    Profit  \n",
       "0     South        Furniture    Bookcases         2      0.00   41.9136  \n",
       "1     South        Furniture       Chairs         3      0.00  219.5820  \n",
       "2      West  Office Supplies       Labels         2      0.00    6.8714  \n",
       "3     South        Furniture       Tables         5      0.45 -383.0310  \n",
       "4     South  Office Supplies      Storage         2      0.20    2.5164  \n",
       "...     ...              ...          ...       ...       ...       ...  \n",
       "9989  South        Furniture  Furnishings         3      0.20    4.1028  \n",
       "9990   West        Furniture  Furnishings         2      0.00   15.6332  \n",
       "9991   West       Technology       Phones         2      0.20   19.3932  \n",
       "9992   West  Office Supplies        Paper         4      0.00   13.3200  \n",
       "9993   West  Office Supplies   Appliances         2      0.00   72.9480  \n",
       "\n",
       "[9994 rows x 11 columns]"
      ]
     },
     "execution_count": 18,
     "metadata": {},
     "output_type": "execute_result"
    }
   ],
   "source": [
    "df"
   ]
  },
  {
   "cell_type": "code",
   "execution_count": 19,
   "id": "853e159a",
   "metadata": {},
   "outputs": [
    {
     "data": {
      "text/plain": [
       "Index(['Ship Mode', 'Segment', 'City', 'State', 'Postal Code', 'Region',\n",
       "       'Category', 'Sub-Category', 'Quantity', 'Discount', 'Profit'],\n",
       "      dtype='object')"
      ]
     },
     "execution_count": 19,
     "metadata": {},
     "output_type": "execute_result"
    }
   ],
   "source": [
    "df.columns"
   ]
  },
  {
   "cell_type": "markdown",
   "id": "e155c5e2",
   "metadata": {},
   "source": [
    "# Ship Mode"
   ]
  },
  {
   "cell_type": "code",
   "execution_count": 20,
   "id": "6f1b572e",
   "metadata": {},
   "outputs": [
    {
     "name": "stdout",
     "output_type": "stream",
     "text": [
      "No.of.different types of ship mode are :  4 \n",
      "\n",
      "They are :  ['Second Class', 'Standard Class', 'First Class', 'Same Day']\n"
     ]
    }
   ],
   "source": [
    "print('No.of.different types of ship mode are : ',df['Ship Mode'].nunique(),'\\n\\nThey are : ',df['Ship Mode'].unique().tolist())\n"
   ]
  },
  {
   "cell_type": "code",
   "execution_count": 21,
   "id": "0ac55093",
   "metadata": {},
   "outputs": [
    {
     "name": "stdout",
     "output_type": "stream",
     "text": [
      "The contribution of each type in the whole dataset is :  Standard Class    5968\n",
      "Second Class      1945\n",
      "First Class       1538\n",
      "Same Day           543\n",
      "Name: Ship Mode, dtype: int64\n"
     ]
    }
   ],
   "source": [
    "print(\"The contribution of each type in the whole dataset is : \",df['Ship Mode'].value_counts())"
   ]
  },
  {
   "cell_type": "code",
   "execution_count": 22,
   "id": "3a578f71",
   "metadata": {},
   "outputs": [
    {
     "data": {
      "text/plain": [
       "<Axes: xlabel='Ship Mode', ylabel='count'>"
      ]
     },
     "execution_count": 22,
     "metadata": {},
     "output_type": "execute_result"
    },
    {
     "data": {
      "image/png": "[encoded data removed]",
      "text/plain": [
       "<Figure size 1400x600 with 1 Axes>"
      ]
     },
     "metadata": {},
     "output_type": "display_data"
    }
   ],
   "source": [
    "#visualising using a chart\n",
    "plt.figure(figsize=(14, 6))\n",
    "sns.countplot(x='Ship Mode',data=df)"
   ]
  },
  {
   "cell_type": "markdown",
   "id": "2dcb63cf",
   "metadata": {},
   "source": [
    "# Segment"
   ]
  },
  {
   "cell_type": "code",
   "execution_count": 23,
   "id": "04b0bf00",
   "metadata": {},
   "outputs": [
    {
     "name": "stdout",
     "output_type": "stream",
     "text": [
      "No.of.different types of segments are :  3 \n",
      "\n",
      "They are :  ['Consumer', 'Corporate', 'Home Office']\n"
     ]
    }
   ],
   "source": [
    "print('No.of.different types of segments are : ',df['Segment'].nunique(),'\\n\\nThey are : ',df['Segment'].unique().tolist())"
   ]
  },
  {
   "cell_type": "code",
   "execution_count": 24,
   "id": "8650203b",
   "metadata": {},
   "outputs": [
    {
     "name": "stdout",
     "output_type": "stream",
     "text": [
      "The contribution of each type in the whole dataset is :  Consumer       5191\n",
      "Corporate      3020\n",
      "Home Office    1783\n",
      "Name: Segment, dtype: int64\n"
     ]
    }
   ],
   "source": [
    "print(\"The contribution of each type in the whole dataset is : \",df['Segment'].value_counts())"
   ]
  },
  {
   "cell_type": "code",
   "execution_count": 25,
   "id": "120d78a5",
   "metadata": {},
   "outputs": [
    {
     "data": {
      "image/png": "[encoded data removed]",
      "text/plain": [
       "<Figure size 1400x600 with 1 Axes>"
      ]
     },
     "metadata": {},
     "output_type": "display_data"
    }
   ],
   "source": [
    "#visualising using a chart\n",
    "plt.figure(figsize=(14, 6))\n",
    "labels=['Consumer','Corporate','Home Office']\n",
    "colors = sns.color_palette('pastel')[0:5]\n",
    "plt.pie(df['Segment'].value_counts(),labels=labels, colors = colors ,autopct='%.0f%%')\n",
    "plt.show()"
   ]
  },
  {
   "cell_type": "markdown",
   "id": "289631ea",
   "metadata": {},
   "source": [
    "# City"
   ]
  },
  {
   "cell_type": "code",
   "execution_count": 26,
   "id": "5bd51664",
   "metadata": {},
   "outputs": [
    {
     "name": "stdout",
     "output_type": "stream",
     "text": [
      "No.of.different Cities involved are :  531 \n",
      "\n",
      "They are :  ['Henderson', 'Los Angeles', 'Fort Lauderdale', 'Concord', 'Seattle', 'Fort Worth', 'Madison', 'West Jordan', 'San Francisco', 'Fremont', 'Philadelphia', 'Orem', 'Houston', 'Richardson', 'Naperville', 'Melbourne', 'Eagan', 'Westland', 'Dover', 'New Albany', 'New York City', 'Troy', 'Chicago', 'Gilbert', 'Springfield', 'Jackson', 'Memphis', 'Decatur', 'Durham', 'Columbia', 'Rochester', 'Minneapolis', 'Portland', 'Saint Paul', 'Aurora', 'Charlotte', 'Orland Park', 'Urbandale', 'Columbus', 'Bristol', 'Wilmington', 'Bloomington', 'Phoenix', 'Roseville', 'Independence', 'Pasadena', 'Newark', 'Franklin', 'Scottsdale', 'San Jose', 'Edmond', 'Carlsbad', 'San Antonio', 'Monroe', 'Fairfield', 'Grand Prairie', 'Redlands', 'Hamilton', 'Westfield', 'Akron', 'Denver', 'Dallas', 'Whittier', 'Saginaw', 'Medina', 'Dublin', 'Detroit', 'Tampa', 'Santa Clara', 'Lakeville', 'San Diego', 'Brentwood', 'Chapel Hill', 'Morristown', 'Cincinnati', 'Inglewood', 'Tamarac', 'Colorado Springs', 'Belleville', 'Taylor', 'Lakewood', 'Arlington', 'Arvada', 'Hackensack', 'Saint Petersburg', 'Long Beach', 'Hesperia', 'Murfreesboro', 'Layton', 'Austin', 'Lowell', 'Manchester', 'Harlingen', 'Tucson', 'Quincy', 'Pembroke Pines', 'Des Moines', 'Peoria', 'Las Vegas', 'Warwick', 'Miami', 'Huntington Beach', 'Richmond', 'Louisville', 'Lawrence', 'Canton', 'New Rochelle', 'Gastonia', 'Jacksonville', 'Auburn', 'Norman', 'Park Ridge', 'Amarillo', 'Lindenhurst', 'Huntsville', 'Fayetteville', 'Costa Mesa', 'Parker', 'Atlanta', 'Gladstone', 'Great Falls', 'Lakeland', 'Montgomery', 'Mesa', 'Green Bay', 'Anaheim', 'Marysville', 'Salem', 'Laredo', 'Grove City', 'Dearborn', 'Warner Robins', 'Vallejo', 'Mission Viejo', 'Rochester Hills', 'Plainfield', 'Sierra Vista', 'Vancouver', 'Cleveland', 'Tyler', 'Burlington', 'Waynesboro', 'Chester', 'Cary', 'Palm Coast', 'Mount Vernon', 'Hialeah', 'Oceanside', 'Evanston', 'Trenton', 'Cottage Grove', 'Bossier City', 'Lancaster', 'Asheville', 'Lake Elsinore', 'Omaha', 'Edmonds', 'Santa Ana', 'Milwaukee', 'Florence', 'Lorain', 'Linden', 'Salinas', 'New Brunswick', 'Garland', 'Norwich', 'Alexandria', 'Toledo', 'Farmington', 'Riverside', 'Torrance', 'Round Rock', 'Boca Raton', 'Virginia Beach', 'Murrieta', 'Olympia', 'Washington', 'Jefferson City', 'Saint Peters', 'Rockford', 'Brownsville', 'Yonkers', 'Oakland', 'Clinton', 'Encinitas', 'Roswell', 'Jonesboro', 'Antioch', 'Homestead', 'La Porte', 'Lansing', 'Cuyahoga Falls', 'Reno', 'Harrisonburg', 'Escondido', 'Royal Oak', 'Rockville', 'Coral Springs', 'Buffalo', 'Boynton Beach', 'Gulfport', 'Fresno', 'Greenville', 'Macon', 'Cedar Rapids', 'Providence', 'Pueblo', 'Deltona', 'Murray', 'Middletown', 'Freeport', 'Pico Rivera', 'Provo', 'Pleasant Grove', 'Smyrna', 'Parma', 'Mobile', 'New Bedford', 'Irving', 'Vineland', 'Glendale', 'Niagara Falls', 'Thomasville', 'Westminster', 'Coppell', 'Pomona', 'North Las Vegas', 'Allentown', 'Tempe', 'Laguna Niguel', 'Bridgeton', 'Everett', 'Watertown', 'Appleton', 'Bellevue', 'Allen', 'El Paso', 'Grapevine', 'Carrollton', 'Kent', 'Lafayette', 'Tigard', 'Skokie', 'Plano', 'Suffolk', 'Indianapolis', 'Bayonne', 'Greensboro', 'Baltimore', 'Kenosha', 'Olathe', 'Tulsa', 'Redmond', 'Raleigh', 'Muskogee', 'Meriden', 'Bowling Green', 'South Bend', 'Spokane', 'Keller', 'Port Orange', 'Medford', 'Charlottesville', 'Missoula', 'Apopka', 'Reading', 'Broomfield', 'Paterson', 'Oklahoma City', 'Chesapeake', 'Lubbock', 'Johnson City', 'San Bernardino', 'Leominster', 'Bozeman', 'Perth Amboy', 'Ontario', 'Rancho Cucamonga', 'Moorhead', 'Mesquite', 'Stockton', 'Ormond Beach', 'Sunnyvale', 'York', 'College Station', 'Saint Louis', 'Manteca', 'San Angelo', 'Salt Lake City', 'Knoxville', 'Little Rock', 'Lincoln Park', 'Marion', 'Littleton', 'Bangor', 'Southaven', 'New Castle', 'Midland', 'Sioux Falls', 'Fort Collins', 'Clarksville', 'Sacramento', 'Thousand Oaks', 'Malden', 'Holyoke', 'Albuquerque', 'Sparks', 'Coachella', 'Elmhurst', 'Passaic', 'North Charleston', 'Newport News', 'Jamestown', 'Mishawaka', 'La Quinta', 'Tallahassee', 'Nashville', 'Bellingham', 'Woodstock', 'Haltom City', 'Wheeling', 'Summerville', 'Hot Springs', 'Englewood', 'Las Cruces', 'Hoover', 'Frisco', 'Vacaville', 'Waukesha', 'Bakersfield', 'Pompano Beach', 'Corpus Christi', 'Redondo Beach', 'Orlando', 'Orange', 'Lake Charles', 'Highland Park', 'Hempstead', 'Noblesville', 'Apple Valley', 'Mount Pleasant', 'Sterling Heights', 'Eau Claire', 'Pharr', 'Billings', 'Gresham', 'Chattanooga', 'Meridian', 'Bolingbrook', 'Maple Grove', 'Woodland', 'Missouri City', 'Pearland', 'San Mateo', 'Grand Rapids', 'Visalia', 'Overland Park', 'Temecula', 'Yucaipa', 'Revere', 'Conroe', 'Tinley Park', 'Dubuque', 'Dearborn Heights', 'Santa Fe', 'Hickory', 'Carol Stream', 'Saint Cloud', 'North Miami', 'Plantation', 'Port Saint Lucie', 'Rock Hill', 'Odessa', 'West Allis', 'Chula Vista', 'Manhattan', 'Altoona', 'Thornton', 'Champaign', 'Texarkana', 'Edinburg', 'Baytown', 'Greenwood', 'Woonsocket', 'Superior', 'Bedford', 'Covington', 'Broken Arrow', 'Miramar', 'Hollywood', 'Deer Park', 'Wichita', 'Mcallen', 'Iowa City', 'Boise', 'Cranston', 'Port Arthur', 'Citrus Heights', 'The Colony', 'Daytona Beach', 'Bullhead City', 'Portage', 'Fargo', 'Elkhart', 'San Gabriel', 'Margate', 'Sandy Springs', 'Mentor', 'Lawton', 'Hampton', 'Rome', 'La Crosse', 'Lewiston', 'Hattiesburg', 'Danville', 'Logan', 'Waterbury', 'Athens', 'Avondale', 'Marietta', 'Yuma', 'Wausau', 'Pasco', 'Oak Park', 'Pensacola', 'League City', 'Gaithersburg', 'Lehi', 'Tuscaloosa', 'Moreno Valley', 'Georgetown', 'Loveland', 'Chandler', 'Helena', 'Kirkwood', 'Waco', 'Frankfort', 'Bethlehem', 'Grand Island', 'Woodbury', 'Rogers', 'Clovis', 'Jupiter', 'Santa Barbara', 'Cedar Hill', 'Norfolk', 'Draper', 'Ann Arbor', 'La Mesa', 'Pocatello', 'Holland', 'Milford', 'Buffalo Grove', 'Lake Forest', 'Redding', 'Chico', 'Utica', 'Conway', 'Cheyenne', 'Owensboro', 'Caldwell', 'Kenner', 'Nashua', 'Bartlett', 'Redwood City', 'Lebanon', 'Santa Maria', 'Des Plaines', 'Longview', 'Hendersonville', 'Waterloo', 'Cambridge', 'Palatine', 'Beverly', 'Eugene', 'Oxnard', 'Renton', 'Glenview', 'Delray Beach', 'Commerce City', 'Texas City', 'Wilson', 'Rio Rancho', 'Goldsboro', 'Montebello', 'El Cajon', 'Beaumont', 'West Palm Beach', 'Abilene', 'Normal', 'Saint Charles', 'Camarillo', 'Hillsboro', 'Burbank', 'Modesto', 'Garden City', 'Atlantic City', 'Longmont', 'Davis', 'Morgan Hill', 'Clifton', 'Sheboygan', 'East Point', 'Rapid City', 'Andover', 'Kissimmee', 'Shelton', 'Danbury', 'Sanford', 'San Marcos', 'Greeley', 'Mansfield', 'Elyria', 'Twin Falls', 'Coral Gables', 'Romeoville', 'Marlborough', 'Laurel', 'Bryan', 'Pine Bluff', 'Aberdeen', 'Hagerstown', 'East Orange', 'Arlington Heights', 'Oswego', 'Coon Rapids', 'San Clemente', 'San Luis Obispo', 'Springdale', 'Lodi', 'Mason']\n"
     ]
    }
   ],
   "source": [
    "print('No.of.different Cities involved are : ',df['City'].nunique(),'\\n\\nThey are : ',df['City'].unique().tolist())"
   ]
  },
  {
   "cell_type": "code",
   "execution_count": 27,
   "id": "4a969be6",
   "metadata": {},
   "outputs": [
    {
     "name": "stdout",
     "output_type": "stream",
     "text": [
      "The contribution of each city in the whole dataset is :  New York City      915\n",
      "Los Angeles        747\n",
      "Philadelphia       537\n",
      "San Francisco      510\n",
      "Seattle            428\n",
      "                  ... \n",
      "Glenview             1\n",
      "Missouri City        1\n",
      "Rochester Hills      1\n",
      "Palatine             1\n",
      "Manhattan            1\n",
      "Name: City, Length: 531, dtype: int64\n"
     ]
    }
   ],
   "source": [
    "print(\"The contribution of each city in the whole dataset is : \",df['City'].value_counts())"
   ]
  },
  {
   "cell_type": "markdown",
   "id": "06629508",
   "metadata": {},
   "source": [
    "# State"
   ]
  },
  {
   "cell_type": "code",
   "execution_count": 28,
   "id": "fb7a00dd",
   "metadata": {},
   "outputs": [
    {
     "name": "stdout",
     "output_type": "stream",
     "text": [
      "No.of.different States involved are :  49 \n",
      "\n",
      "They are :  ['Kentucky', 'California', 'Florida', 'North Carolina', 'Washington', 'Texas', 'Wisconsin', 'Utah', 'Nebraska', 'Pennsylvania', 'Illinois', 'Minnesota', 'Michigan', 'Delaware', 'Indiana', 'New York', 'Arizona', 'Virginia', 'Tennessee', 'Alabama', 'South Carolina', 'Oregon', 'Colorado', 'Iowa', 'Ohio', 'Missouri', 'Oklahoma', 'New Mexico', 'Louisiana', 'Connecticut', 'New Jersey', 'Massachusetts', 'Georgia', 'Nevada', 'Rhode Island', 'Mississippi', 'Arkansas', 'Montana', 'New Hampshire', 'Maryland', 'District of Columbia', 'Kansas', 'Vermont', 'Maine', 'South Dakota', 'Idaho', 'North Dakota', 'Wyoming', 'West Virginia']\n"
     ]
    }
   ],
   "source": [
    "print('No.of.different States involved are : ',df['State'].nunique(),'\\n\\nThey are : ',df['State'].unique().tolist())"
   ]
  },
  {
   "cell_type": "code",
   "execution_count": 29,
   "id": "da9ae326",
   "metadata": {},
   "outputs": [
    {
     "name": "stdout",
     "output_type": "stream",
     "text": [
      "The contribution of each type in the whole dataset is :\n",
      " California              2001\n",
      "New York                1128\n",
      "Texas                    985\n",
      "Pennsylvania             587\n",
      "Washington               506\n",
      "Illinois                 492\n",
      "Ohio                     469\n",
      "Florida                  383\n",
      "Michigan                 255\n",
      "North Carolina           249\n",
      "Arizona                  224\n",
      "Virginia                 224\n",
      "Georgia                  184\n",
      "Tennessee                183\n",
      "Colorado                 182\n",
      "Indiana                  149\n",
      "Kentucky                 139\n",
      "Massachusetts            135\n",
      "New Jersey               130\n",
      "Oregon                   124\n",
      "Wisconsin                110\n",
      "Maryland                 105\n",
      "Delaware                  96\n",
      "Minnesota                 89\n",
      "Connecticut               82\n",
      "Oklahoma                  66\n",
      "Missouri                  66\n",
      "Alabama                   61\n",
      "Arkansas                  60\n",
      "Rhode Island              56\n",
      "Utah                      53\n",
      "Mississippi               53\n",
      "Louisiana                 42\n",
      "South Carolina            42\n",
      "Nevada                    39\n",
      "Nebraska                  38\n",
      "New Mexico                37\n",
      "Iowa                      30\n",
      "New Hampshire             27\n",
      "Kansas                    24\n",
      "Idaho                     21\n",
      "Montana                   15\n",
      "South Dakota              12\n",
      "Vermont                   11\n",
      "District of Columbia      10\n",
      "Maine                      8\n",
      "North Dakota               7\n",
      "West Virginia              4\n",
      "Wyoming                    1\n",
      "Name: State, dtype: int64\n"
     ]
    }
   ],
   "source": [
    "print(\"The contribution of each type in the whole dataset is :\\n\",df['State'].value_counts())"
   ]
  },
  {
   "cell_type": "code",
   "execution_count": 30,
   "id": "718c281e",
   "metadata": {},
   "outputs": [
    {
     "name": "stdout",
     "output_type": "stream",
     "text": [
      "The overall participation of the top 5 States are :  ['California', 'New York', 'Texas', 'Pennsylvania', 'Washington']\n"
     ]
    },
    {
     "data": {
      "image/png": "[encoded data removed]",
      "text/plain": [
       "<Figure size 1400x600 with 1 Axes>"
      ]
     },
     "metadata": {},
     "output_type": "display_data"
    }
   ],
   "source": [
    "#visualising using a chart\n",
    "plt.figure(figsize=(14, 6))\n",
    "labels=df['State'].value_counts().head().to_frame().index.tolist()\n",
    "print(\"The overall participation of the top 5 States are : \",labels)\n",
    "plt.pie(df['State'].value_counts().head(),labels=labels,autopct='%.0f%%')\n",
    "plt.show()"
   ]
  },
  {
   "cell_type": "markdown",
   "id": "cb931e3a",
   "metadata": {},
   "source": [
    "# Postal Code"
   ]
  },
  {
   "cell_type": "code",
   "execution_count": 31,
   "id": "107d31f6",
   "metadata": {},
   "outputs": [
    {
     "name": "stdout",
     "output_type": "stream",
     "text": [
      "No.of.different Postal code involved are :  631 \n",
      "\n",
      "They are :  [42420, 90036, 33311, 90032, 28027, 98103, 76106, 53711, 84084, 94109, 68025, 19140, 84057, 90049, 77095, 75080, 77041, 60540, 32935, 55122, 48185, 19901, 47150, 10024, 12180, 90004, 60610, 85234, 22153, 10009, 49201, 38109, 77070, 35601, 94122, 27707, 60623, 29203, 55901, 55407, 97206, 55106, 80013, 28205, 60462, 10035, 50322, 43229, 37620, 19805, 61701, 85023, 95661, 64055, 91104, 43055, 53132, 85254, 95123, 98105, 98115, 73034, 90045, 19134, 88220, 78207, 77036, 62521, 71203, 6824, 75051, 92374, 45011, 7090, 19120, 44312, 80219, 75220, 37064, 90604, 48601, 44256, 43017, 48227, 38401, 33614, 95051, 55044, 92037, 77506, 94513, 27514, 7960, 45231, 94110, 90301, 33319, 80906, 7109, 48180, 8701, 22204, 80004, 7601, 33710, 19143, 90805, 92345, 37130, 84041, 78745, 1852, 31907, 6040, 78550, 85705, 62301, 2038, 33024, 98198, 61604, 89115, 2886, 33180, 28403, 92646, 40475, 80027, 1841, 39212, 48187, 10801, 28052, 32216, 47201, 13021, 73071, 94521, 60068, 79109, 11757, 90008, 92024, 77340, 14609, 72701, 92627, 80134, 30318, 64118, 59405, 48234, 33801, 36116, 85204, 60653, 54302, 45503, 92804, 98270, 97301, 78041, 75217, 43123, 10011, 48126, 31088, 94591, 92691, 48307, 7060, 85635, 98661, 60505, 76017, 40214, 75081, 44105, 75701, 27217, 22980, 19013, 27511, 32137, 10550, 48205, 33012, 11572, 92105, 60201, 48183, 55016, 71111, 50315, 93534, 23223, 28806, 92530, 68104, 98026, 92704, 53209, 41042, 44052, 7036, 93905, 8901, 17602, 3301, 21044, 75043, 6360, 22304, 43615, 87401, 92503, 90503, 78664, 92054, 33433, 23464, 92563, 28540, 52601, 98502, 20016, 65109, 63376, 61107, 33142, 78521, 10701, 94601, 28110, 20735, 30076, 72401, 47374, 94509, 33030, 46350, 48911, 44221, 89502, 22801, 92025, 48073, 20852, 33065, 14215, 33437, 39503, 93727, 27834, 11561, 35630, 31204, 52402, 2908, 81001, 94533, 32725, 42071, 6457, 11520, 90660, 84604, 84062, 30080, 24153, 44134, 36608, 2740, 75061, 8360, 85301, 14304, 27360, 92683, 38301, 75019, 91767, 89031, 18103, 19711, 85281, 92677, 8302, 2149, 13601, 54915, 98006, 75002, 79907, 76051, 75007, 37167, 98031, 70506, 97224, 60076, 75023, 23434, 46203, 7002, 28314, 27405, 21215, 53142, 66062, 98002, 74133, 97756, 27604, 74403, 6450, 42104, 46614, 6010, 89015, 99207, 76248, 45014, 32127, 97504, 22901, 59801, 33178, 29501, 97477, 32712, 19601, 80020, 65807, 7501, 73120, 23320, 79424, 65203, 37604, 36830, 92404, 1453, 59715, 85345, 44107, 8861, 91761, 91730, 56560, 75150, 95207, 32174, 94086, 3820, 17403, 77840, 63116, 2169, 95336, 44240, 76903, 84106, 35810, 37918, 72209, 48146, 43302, 80122, 5408, 4401, 38671, 47362, 48640, 57103, 80525, 47905, 37042, 95823, 91360, 2148, 1040, 87105, 89431, 92236, 60126, 7055, 29406, 23602, 14701, 46544, 43402, 92253, 32303, 37211, 98226, 60098, 76117, 60090, 29483, 71901, 80112, 43130, 88001, 35244, 75034, 95687, 84107, 53186, 93309, 33068, 45373, 78415, 90278, 32839, 7050, 70601, 60035, 11550, 46060, 55124, 29464, 48310, 54703, 78577, 59102, 97030, 37421, 83642, 92307, 60440, 55369, 95695, 77489, 77581, 94403, 49505, 93277, 66212, 92592, 92399, 2151, 77301, 60477, 52001, 48127, 87505, 28601, 60188, 56301, 33161, 46226, 33317, 34952, 29730, 79762, 53214, 91911, 66502, 16602, 80229, 61821, 47401, 71854, 78539, 77520, 46142, 90712, 2895, 54880, 76021, 98042, 74012, 33023, 33021, 77536, 67212, 78501, 52240, 83704, 2920, 61032, 77642, 95610, 75056, 98052, 32114, 86442, 46368, 58103, 46514, 91776, 33063, 30328, 44060, 73505, 23666, 13440, 54601, 83501, 39401, 94526, 48858, 84321, 6708, 30605, 4240, 61832, 85323, 30062, 85364, 54401, 99301, 60302, 32503, 77573, 20877, 84043, 35401, 92553, 40324, 80538, 85224, 59601, 63122, 76706, 48066, 60423, 18018, 55113, 68801, 55125, 48237, 72756, 88101, 33458, 93101, 75104, 68701, 84020, 48104, 91941, 83201, 49423, 6460, 60089, 92630, 96003, 95928, 13501, 72032, 82001, 42301, 83605, 70065, 3060, 38134, 94061, 37087, 93454, 60016, 98632, 37075, 50701, 2138, 60067, 1915, 97405, 93030, 98059, 60025, 33445, 80022, 77590, 27893, 87124, 27534, 98208, 90640, 92020, 77705, 33407, 79605, 61761, 63301, 60174, 93010, 97123, 91505, 95351, 67846, 8401, 80501, 95616, 26003, 95037, 7011, 53081, 30344, 57701, 1810, 34741, 6484, 6810, 52302, 32771, 78666, 80634, 76063, 44035, 83301, 33134, 60441, 1752, 20707, 77803, 71603, 57401, 21740, 7017, 60004, 60543, 55433, 92672, 94568, 93405, 72762, 95240, 77571, 45040, 30188]\n"
     ]
    }
   ],
   "source": [
    "print('No.of.different Postal code involved are : ',df['Postal Code'].nunique(),'\\n\\nThey are : ',df['Postal Code'].unique().tolist())"
   ]
  },
  {
   "cell_type": "code",
   "execution_count": 32,
   "id": "7d342788",
   "metadata": {},
   "outputs": [
    {
     "name": "stdout",
     "output_type": "stream",
     "text": [
      "The contribution of each type in the whole dataset is :\n",
      " 10035    263\n",
      "10024    230\n",
      "10009    229\n",
      "94122    203\n",
      "10011    193\n",
      "        ... \n",
      "27534      1\n",
      "53186      1\n",
      "32503      1\n",
      "94509      1\n",
      "63376      1\n",
      "Name: Postal Code, Length: 631, dtype: int64\n"
     ]
    }
   ],
   "source": [
    "print(\"The contribution of each type in the whole dataset is :\\n\",df['Postal Code'].value_counts())"
   ]
  },
  {
   "cell_type": "code",
   "execution_count": 33,
   "id": "8d5aa65e",
   "metadata": {},
   "outputs": [
    {
     "name": "stdout",
     "output_type": "stream",
     "text": [
      "The overall participation of the top 5 States are :  [10035, 10024, 10009, 94122, 10011] \n",
      "where  10035 10024 10009 and  10011 are from New York and  94122 is from California\n"
     ]
    },
    {
     "data": {
      "image/png": "[encoded data removed]",
      "text/plain": [
       "<Figure size 1400x600 with 1 Axes>"
      ]
     },
     "metadata": {},
     "output_type": "display_data"
    }
   ],
   "source": [
    "#visualising using a chart\n",
    "plt.figure(figsize=(14, 6))\n",
    "labels=df['Postal Code'].value_counts().head().to_frame().index.tolist()\n",
    "print(\"The overall participation of the top 5 States are : \",labels ,'\\nwhere ',labels[0],labels[1],labels[2],'and ',labels[-1],'are from New York and ',labels[3],'is from California')\n",
    "plt.pie(df['Postal Code'].value_counts().head(),labels=labels,autopct='%.0f%%')\n",
    "plt.show()"
   ]
  },
  {
   "cell_type": "markdown",
   "id": "0b90491a",
   "metadata": {},
   "source": [
    "# Region"
   ]
  },
  {
   "cell_type": "code",
   "execution_count": 34,
   "id": "e2fc9f65",
   "metadata": {},
   "outputs": [
    {
     "name": "stdout",
     "output_type": "stream",
     "text": [
      "No.of.different regions involved are :  4 \n",
      "\n",
      "They are :  ['South', 'West', 'Central', 'East']\n"
     ]
    }
   ],
   "source": [
    "print('No.of.different regions involved are : ',df['Region'].nunique(),'\\n\\nThey are : ',df['Region'].unique().tolist())"
   ]
  },
  {
   "cell_type": "code",
   "execution_count": 35,
   "id": "6410a793",
   "metadata": {},
   "outputs": [
    {
     "name": "stdout",
     "output_type": "stream",
     "text": [
      "The contribution of each type in the whole dataset is :\n",
      " West       3203\n",
      "East       2848\n",
      "Central    2323\n",
      "South      1620\n",
      "Name: Region, dtype: int64\n"
     ]
    }
   ],
   "source": [
    "print(\"The contribution of each type in the whole dataset is :\\n\",df['Region'].value_counts())"
   ]
  },
  {
   "cell_type": "code",
   "execution_count": 36,
   "id": "93e6f7bb",
   "metadata": {},
   "outputs": [
    {
     "data": {
      "image/png": "[encoded data removed]",
      "text/plain": [
       "<Figure size 640x480 with 1 Axes>"
      ]
     },
     "metadata": {},
     "output_type": "display_data"
    }
   ],
   "source": [
    "#visualising using a chart\n",
    "sns.countplot(x=df['Region'])\n",
    "plt.show()"
   ]
  },
  {
   "cell_type": "markdown",
   "id": "4973f143",
   "metadata": {},
   "source": [
    "# Category"
   ]
  },
  {
   "cell_type": "code",
   "execution_count": 37,
   "id": "cc31a77d",
   "metadata": {},
   "outputs": [
    {
     "name": "stdout",
     "output_type": "stream",
     "text": [
      "No.of.different Categories involved are :  3 \n",
      "\n",
      "They are :  ['Furniture', 'Office Supplies', 'Technology']\n"
     ]
    }
   ],
   "source": [
    "print('No.of.different Categories involved are : ',df['Category'].nunique(),'\\n\\nThey are : ',df['Category'].unique().tolist())"
   ]
  },
  {
   "cell_type": "code",
   "execution_count": 38,
   "id": "e9ca9d63",
   "metadata": {},
   "outputs": [
    {
     "name": "stdout",
     "output_type": "stream",
     "text": [
      "The contribution of each type in the whole dataset is :\n",
      " Office Supplies    6026\n",
      "Furniture          2121\n",
      "Technology         1847\n",
      "Name: Category, dtype: int64\n"
     ]
    }
   ],
   "source": [
    "print(\"The contribution of each type in the whole dataset is :\\n\",df['Category'].value_counts())"
   ]
  },
  {
   "cell_type": "code",
   "execution_count": 39,
   "id": "1f830c90",
   "metadata": {},
   "outputs": [
    {
     "data": {
      "image/png": "[encoded data removed]",
      "text/plain": [
       "<Figure size 1400x600 with 1 Axes>"
      ]
     },
     "metadata": {},
     "output_type": "display_data"
    }
   ],
   "source": [
    "#visualising using a chart\n",
    "plt.figure(figsize=(14, 6))\n",
    "labels=df['Category'].value_counts().head().to_frame().index.tolist()\n",
    "plt.pie(df['Category'].value_counts().head(),labels=labels,autopct='%.0f%%')\n",
    "plt.show()"
   ]
  },
  {
   "cell_type": "markdown",
   "id": "defcc559",
   "metadata": {},
   "source": [
    "# Sub-Category"
   ]
  },
  {
   "cell_type": "code",
   "execution_count": 40,
   "id": "665bd2cc",
   "metadata": {},
   "outputs": [
    {
     "name": "stdout",
     "output_type": "stream",
     "text": [
      "No.of.different Sub-Categories involved are :  17 \n",
      "\n",
      "They are :  ['Bookcases', 'Chairs', 'Labels', 'Tables', 'Storage', 'Furnishings', 'Art', 'Phones', 'Binders', 'Appliances', 'Paper', 'Accessories', 'Envelopes', 'Fasteners', 'Supplies', 'Machines', 'Copiers']\n"
     ]
    }
   ],
   "source": [
    "print('No.of.different Sub-Categories involved are : ',df['Sub-Category'].nunique(),'\\n\\nThey are : ',df['Sub-Category'].unique().tolist())"
   ]
  },
  {
   "cell_type": "code",
   "execution_count": 41,
   "id": "1f83f446",
   "metadata": {},
   "outputs": [
    {
     "name": "stdout",
     "output_type": "stream",
     "text": [
      "The contribution of each type in the whole dataset is :\n",
      " Binders        1523\n",
      "Paper          1370\n",
      "Furnishings     957\n",
      "Phones          889\n",
      "Storage         846\n",
      "Art             796\n",
      "Accessories     775\n",
      "Chairs          617\n",
      "Appliances      466\n",
      "Labels          364\n",
      "Tables          319\n",
      "Envelopes       254\n",
      "Bookcases       228\n",
      "Fasteners       217\n",
      "Supplies        190\n",
      "Machines        115\n",
      "Copiers          68\n",
      "Name: Sub-Category, dtype: int64\n"
     ]
    }
   ],
   "source": [
    "print(\"The contribution of each type in the whole dataset is :\\n\",df['Sub-Category'].value_counts())"
   ]
  },
  {
   "cell_type": "code",
   "execution_count": 42,
   "id": "da860673",
   "metadata": {},
   "outputs": [
    {
     "data": {
      "image/png": "[encoded data removed]",
      "text/plain": [
       "<Figure size 1500x600 with 1 Axes>"
      ]
     },
     "metadata": {},
     "output_type": "display_data"
    }
   ],
   "source": [
    "#visualising using a chart\n",
    "plt.figure(figsize=(15, 6))\n",
    "sns.countplot(x=df['Sub-Category'])\n",
    "plt.show()"
   ]
  },
  {
   "cell_type": "markdown",
   "id": "c0ca1c19",
   "metadata": {},
   "source": [
    "# Quantity"
   ]
  },
  {
   "cell_type": "code",
   "execution_count": 43,
   "id": "458881bd",
   "metadata": {},
   "outputs": [
    {
     "name": "stdout",
     "output_type": "stream",
     "text": [
      "No.of.different quantity involved are :  14 \n",
      "\n",
      "They are :  [2, 3, 5, 7, 4, 6, 9, 1, 8, 14, 11, 13, 10, 12]\n"
     ]
    }
   ],
   "source": [
    "print('No.of.different quantity involved are : ',df['Quantity'].nunique(),'\\n\\nThey are : ',df['Quantity'].unique().tolist())"
   ]
  },
  {
   "cell_type": "code",
   "execution_count": 44,
   "id": "4981bbcd",
   "metadata": {},
   "outputs": [
    {
     "name": "stdout",
     "output_type": "stream",
     "text": [
      "Different quantities sold at the rate  :\n",
      " 3     2409\n",
      "2     2402\n",
      "5     1230\n",
      "4     1191\n",
      "1      899\n",
      "7      606\n",
      "6      572\n",
      "9      258\n",
      "8      257\n",
      "10      57\n",
      "11      34\n",
      "14      29\n",
      "13      27\n",
      "12      23\n",
      "Name: Quantity, dtype: int64\n"
     ]
    }
   ],
   "source": [
    "print(\"Different quantities sold at the rate  :\\n\",df['Quantity'].value_counts())"
   ]
  },
  {
   "cell_type": "code",
   "execution_count": 45,
   "id": "c106b42e",
   "metadata": {},
   "outputs": [
    {
     "data": {
      "image/png": "[encoded data removed]",
      "text/plain": [
       "<Figure size 1400x600 with 1 Axes>"
      ]
     },
     "metadata": {},
     "output_type": "display_data"
    }
   ],
   "source": [
    "#visualising using a chart\n",
    "plt.figure(figsize=(14, 6))\n",
    "labels=df['Quantity'].value_counts().head().to_frame().index.tolist()\n",
    "plt.pie(df['Quantity'].value_counts().head(),labels=labels,autopct='%.0f%%')\n",
    "plt.show()"
   ]
  },
  {
   "cell_type": "markdown",
   "id": "25306367",
   "metadata": {},
   "source": [
    "# Discount"
   ]
  },
  {
   "cell_type": "code",
   "execution_count": 46,
   "id": "2b44dadd",
   "metadata": {},
   "outputs": [
    {
     "name": "stdout",
     "output_type": "stream",
     "text": [
      "No.of.different quantity involved are :  12 \n",
      "\n",
      "They are :  [0.0, 0.45, 0.2, 0.8, 0.3, 0.5, 0.7, 0.6, 0.32, 0.1, 0.4, 0.15]\n"
     ]
    }
   ],
   "source": [
    "print('No.of.different quantity involved are : ',df['Discount'].nunique(),'\\n\\nThey are : ',df['Discount'].unique().tolist())"
   ]
  },
  {
   "cell_type": "code",
   "execution_count": 47,
   "id": "4bb49e1e",
   "metadata": {},
   "outputs": [
    {
     "name": "stdout",
     "output_type": "stream",
     "text": [
      "The highest and least provided discounts are : \n",
      "Highest :  0.8\n",
      "Lowest :   0.0\n"
     ]
    }
   ],
   "source": [
    "print('The highest and least provided discounts are : ')\n",
    "print('Highest : ',df['Discount'].max())\n",
    "print('Lowest :  ',df['Discount'].min())"
   ]
  },
  {
   "cell_type": "code",
   "execution_count": 48,
   "id": "487b0792",
   "metadata": {},
   "outputs": [
    {
     "name": "stdout",
     "output_type": "stream",
     "text": [
      "Different discounts provided at the rate  :\n",
      " 0.00    4798\n",
      "0.20    3657\n",
      "0.70     418\n",
      "0.80     300\n",
      "0.30     227\n",
      "0.40     206\n",
      "0.60     138\n",
      "0.10      94\n",
      "0.50      66\n",
      "0.15      52\n",
      "0.32      27\n",
      "0.45      11\n",
      "Name: Discount, dtype: int64\n"
     ]
    }
   ],
   "source": [
    "print(\"Different discounts provided at the rate  :\\n\",df['Discount'].value_counts())"
   ]
  },
  {
   "cell_type": "code",
   "execution_count": 49,
   "id": "18a63256",
   "metadata": {},
   "outputs": [
    {
     "data": {
      "image/png": "[encoded data removed]",
      "text/plain": [
       "<Figure size 1500x600 with 1 Axes>"
      ]
     },
     "metadata": {},
     "output_type": "display_data"
    }
   ],
   "source": [
    "#visualising using a chart\n",
    "plt.figure(figsize=(15, 6))\n",
    "sns.countplot(x=df['Discount'])\n",
    "plt.show()"
   ]
  },
  {
   "cell_type": "code",
   "execution_count": 50,
   "id": "9baf372e",
   "metadata": {},
   "outputs": [
    {
     "data": {
      "image/png": "[encoded data removed]",
      "text/plain": [
       "<Figure size 1400x600 with 1 Axes>"
      ]
     },
     "metadata": {},
     "output_type": "display_data"
    }
   ],
   "source": [
    "#visualising using a chart\n",
    "plt.figure(figsize=(14, 6))\n",
    "labels=df['Discount'].value_counts().head().to_frame().index.tolist()\n",
    "plt.pie(df['Discount'].value_counts().head(),labels=labels,autopct='%.0f%%')\n",
    "plt.show()"
   ]
  },
  {
   "cell_type": "markdown",
   "id": "a9489487",
   "metadata": {},
   "source": [
    "# Profit"
   ]
  },
  {
   "cell_type": "code",
   "execution_count": 51,
   "id": "2a7bb274",
   "metadata": {},
   "outputs": [
    {
     "name": "stdout",
     "output_type": "stream",
     "text": [
      "No.of.different levels of Profits involved are :  7287\n"
     ]
    }
   ],
   "source": [
    "print('No.of.different levels of Profits involved are : ',df['Profit'].nunique())"
   ]
  },
  {
   "cell_type": "code",
   "execution_count": 52,
   "id": "563465bf",
   "metadata": {},
   "outputs": [
    {
     "name": "stdout",
     "output_type": "stream",
     "text": [
      "The highest profit value is :  8399.976\n"
     ]
    }
   ],
   "source": [
    "print(\"The highest profit value is : \",df['Profit'].max())"
   ]
  },
  {
   "cell_type": "code",
   "execution_count": 53,
   "id": "795fb02d",
   "metadata": {},
   "outputs": [
    {
     "name": "stdout",
     "output_type": "stream",
     "text": [
      "The lowest profit or loss value is :  -6599.978\n"
     ]
    }
   ],
   "source": [
    "print(\"The lowest profit or loss value is : \",df['Profit'].min())"
   ]
  },
  {
   "cell_type": "markdown",
   "id": "a253ebe0",
   "metadata": {},
   "source": [
    "# SUMMARY\n",
    "         Standard class shipment is the most widely used shipment mode among all the four types\n",
    "         52% of the products were sold to consumers\n",
    "         38% of the products were shipped from/to California\n",
    "         80% of postal codes in the top 5 value counts are from NewYear\n",
    "         West region has the highest shipment than other four\n",
    "         60% of the products shipmented are Office Supplies\n",
    "         Binders were the most shipmented product\n",
    "         Most of the people opt for 2 or 3 quantity of products\n",
    "         51% of the products doesn't have discount\n",
    "\n",
    "\n",
    "# Neglected Column \n",
    "              Country as it is common to all values\n",
    "            "
   ]
  }
 ],
 "metadata": {
  "kernelspec": {
   "display_name": "Python 3 (ipykernel)",
   "language": "python",
   "name": "python3"
  },
  "language_info": {
   "codemirror_mode": {
    "name": "ipython",
    "version": 3
   },
   "file_extension": ".py",
   "mimetype": "text/x-python",
   "name": "python",
   "nbconvert_exporter": "python",
   "pygments_lexer": "ipython3",
   "version": "3.10.9"
  }
 },
 "nbformat": 4,
 "nbformat_minor": 5
}
